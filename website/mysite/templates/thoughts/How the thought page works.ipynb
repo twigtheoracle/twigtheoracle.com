{
 "cells": [
  {
   "cell_type": "markdown",
   "id": "00c75b0a",
   "metadata": {},
   "source": [
    "# How the thought page works"
   ]
  },
  {
   "cell_type": "markdown",
   "id": "2e4a6317",
   "metadata": {},
   "source": [
    "Some thought pages are created from the base template, with the addition of some metadata tags in the file head. Other tought pages are created directly from jupyter notebooks, such as this one. This notebook was used to test the thought page and the ability to generate html pages from these jupyter notebooks. \n",
    "\n",
    "After any notebook is completed, a script is run that converts the notebook to html, adds various style elements, inserts various file metadata into the head of the document, and finally puts the converted html into a template created for the thoughts page.\n",
    "\n",
    "Code is corretly styled/formatted as can be seen below:"
   ]
  },
  {
   "cell_type": "code",
   "execution_count": 4,
   "id": "e41115b1",
   "metadata": {},
   "outputs": [
    {
     "data": {
      "text/plain": [
       "array([0., 0., 0., 0., 0., 0., 0., 0., 0., 0.])"
      ]
     },
     "execution_count": 4,
     "metadata": {},
     "output_type": "execute_result"
    }
   ],
   "source": [
    "import numpy as np\n",
    "np.zeros(10)"
   ]
  },
  {
   "cell_type": "markdown",
   "id": "b08a9fde",
   "metadata": {},
   "source": [
    "The script can be found [here](https://github.com/twigtheoracle/twigtheoracle.com/blob/master/website/mysite/templates/thoughts/convert_nb_to_html.py)\n",
    "\n",
    "The script is run from the command line using \"python convert_nb_to_html.py {file name}\" from the folder in which the notebook exists"
   ]
  }
 ],
 "metadata": {
  "kernelspec": {
   "display_name": "Python 3",
   "language": "python",
   "name": "python3"
  },
  "language_info": {
   "codemirror_mode": {
    "name": "ipython",
    "version": 3
   },
   "file_extension": ".py",
   "mimetype": "text/x-python",
   "name": "python",
   "nbconvert_exporter": "python",
   "pygments_lexer": "ipython3",
   "version": "3.8.8"
  }
 },
 "nbformat": 4,
 "nbformat_minor": 5
}
