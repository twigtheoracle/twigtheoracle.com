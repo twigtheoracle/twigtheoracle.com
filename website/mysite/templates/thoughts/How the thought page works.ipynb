{
 "cells": [
  {
   "cell_type": "markdown",
   "id": "00c75b0a",
   "metadata": {},
   "source": [
    "# How the thought page works"
   ]
  },
  {
   "cell_type": "markdown",
   "id": "2e4a6317",
   "metadata": {},
   "source": [
    "This notebook was used to test the thought page and the ability to generate html pages from these jupyter notebooks. \n",
    "\n",
    "After any thought is completed, a script is run that converts the notebook to html, adds various style elements, inserts various file metadata into a comment, and finally puts the converted html into a template created for the thoughts page.\n",
    "\n",
    "The script can be found bellow."
   ]
  },
  {
   "cell_type": "code",
   "execution_count": 4,
   "id": "73ff2581",
   "metadata": {},
   "outputs": [
    {
     "ename": "SyntaxError",
     "evalue": "invalid syntax (Temp/ipykernel_14192/251980940.py, line 1)",
     "output_type": "error",
     "traceback": [
      "\u001b[1;36m  File \u001b[1;32m\"C:\\Users\\twig\\AppData\\Local\\Temp/ipykernel_14192/251980940.py\"\u001b[1;36m, line \u001b[1;32m1\u001b[0m\n\u001b[1;33m    def run\u001b[0m\n\u001b[1;37m           ^\u001b[0m\n\u001b[1;31mSyntaxError\u001b[0m\u001b[1;31m:\u001b[0m invalid syntax\n"
     ]
    }
   ],
   "source": [
    "import argparse\n",
    "\n",
    "def main():\n",
    "    pass\n",
    "\n",
    "if(__name__ == \"main\"):\n",
    "    main()"
   ]
  },
  {
   "cell_type": "markdown",
   "id": "17fdfb12",
   "metadata": {},
   "source": [
    "The script is run from the command line using \"python convert_nb_to_html.py \\<file name\\>\""
   ]
  }
 ],
 "metadata": {
  "kernelspec": {
   "display_name": "Python 3 (ipykernel)",
   "language": "python",
   "name": "python3"
  },
  "language_info": {
   "codemirror_mode": {
    "name": "ipython",
    "version": 3
   },
   "file_extension": ".py",
   "mimetype": "text/x-python",
   "name": "python",
   "nbconvert_exporter": "python",
   "pygments_lexer": "ipython3",
   "version": "3.8.11"
  }
 },
 "nbformat": 4,
 "nbformat_minor": 5
}
